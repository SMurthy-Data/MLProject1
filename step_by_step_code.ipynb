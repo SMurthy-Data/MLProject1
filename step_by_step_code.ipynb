{
 "cells": [
  {
   "cell_type": "code",
   "execution_count": 1,
   "id": "294c9481",
   "metadata": {},
   "outputs": [],
   "source": [
    "import sys"
   ]
  },
  {
   "cell_type": "code",
   "execution_count": 2,
   "id": "047df212",
   "metadata": {},
   "outputs": [],
   "source": [
    "def error_details():\n",
    "    exc_info = sys.exc_info()\n",
    "    print(exc_info,'\\n')\n",
    "    print(exc_info[0])\n",
    "    return sys.exc_info()\n",
    "    "
   ]
  },
  {
   "cell_type": "code",
   "execution_count": 3,
   "id": "072f2a06",
   "metadata": {},
   "outputs": [],
   "source": [
    "def divide(a,b):\n",
    "    try:\n",
    "        return a/b\n",
    "    except Exception as e:\n",
    "        error_details()"
   ]
  },
  {
   "cell_type": "code",
   "execution_count": 4,
   "id": "b427daa8",
   "metadata": {},
   "outputs": [
    {
     "name": "stdout",
     "output_type": "stream",
     "text": [
      "(<class 'ZeroDivisionError'>, ZeroDivisionError('division by zero'), <traceback object at 0x000001CC0707BE00>) \n",
      "\n",
      "<class 'ZeroDivisionError'>\n"
     ]
    }
   ],
   "source": [
    "divide(10,0)"
   ]
  },
  {
   "cell_type": "markdown",
   "id": "3ebf8179",
   "metadata": {},
   "source": [
    "Practice Example"
   ]
  },
  {
   "cell_type": "markdown",
   "id": "c5c379c3",
   "metadata": {},
   "source": [
    "a"
   ]
  },
  {
   "cell_type": "code",
   "execution_count": 5,
   "id": "6fff7892",
   "metadata": {},
   "outputs": [],
   "source": [
    "def elements(a,b):\n",
    "    return a + b\n",
    "\n",
    "def add(c,d):\n",
    "    try:\n",
    "        return c/d\n",
    "    except Exception as e:\n",
    "        elements(3,4)"
   ]
  },
  {
   "cell_type": "code",
   "execution_count": 6,
   "id": "6d7e5b69",
   "metadata": {},
   "outputs": [],
   "source": [
    "add(2,0)"
   ]
  },
  {
   "cell_type": "markdown",
   "id": "ada99258",
   "metadata": {},
   "source": [
    "b"
   ]
  },
  {
   "cell_type": "code",
   "execution_count": 7,
   "id": "15207b19",
   "metadata": {},
   "outputs": [],
   "source": [
    "def elements(a,b):\n",
    "    return a + b\n",
    "\n",
    "def add(c,d):\n",
    "    try:\n",
    "        return c/d\n",
    "    except Exception as e:\n",
    "        print(elements(7,4))"
   ]
  },
  {
   "cell_type": "code",
   "execution_count": 8,
   "id": "cfc4138d",
   "metadata": {},
   "outputs": [
    {
     "data": {
      "text/plain": [
       "2.3333333333333335"
      ]
     },
     "execution_count": 8,
     "metadata": {},
     "output_type": "execute_result"
    }
   ],
   "source": [
    "add(7,3)"
   ]
  },
  {
   "cell_type": "code",
   "execution_count": 9,
   "id": "7c5b944b",
   "metadata": {},
   "outputs": [
    {
     "name": "stdout",
     "output_type": "stream",
     "text": [
      "11\n"
     ]
    }
   ],
   "source": [
    "add(7,0)"
   ]
  },
  {
   "cell_type": "markdown",
   "id": "cd5c9982",
   "metadata": {},
   "source": [
    "Example1"
   ]
  },
  {
   "cell_type": "code",
   "execution_count": 10,
   "id": "1a1c6c6a",
   "metadata": {},
   "outputs": [],
   "source": [
    "def error_details():\n",
    "    _,_,exc_tb = sys.exc_info()\n",
    "    print(exc_tb)\n",
    "    return exc_tb\n",
    "\n",
    "def divide(a,b):\n",
    "    try:\n",
    "        c = a / b\n",
    "    except Exception as e:\n",
    "        error_details()\n",
    "    else:\n",
    "        print(c)\n",
    "\n"
   ]
  },
  {
   "cell_type": "code",
   "execution_count": 11,
   "id": "7e1ed32b",
   "metadata": {},
   "outputs": [
    {
     "name": "stdout",
     "output_type": "stream",
     "text": [
      "1.0\n"
     ]
    }
   ],
   "source": [
    "divide(1,1)"
   ]
  },
  {
   "cell_type": "code",
   "execution_count": 12,
   "id": "73846de6",
   "metadata": {},
   "outputs": [
    {
     "name": "stdout",
     "output_type": "stream",
     "text": [
      "<traceback object at 0x000001CC07091880>\n"
     ]
    }
   ],
   "source": [
    "divide(1,0)"
   ]
  },
  {
   "cell_type": "markdown",
   "id": "fed42196",
   "metadata": {},
   "source": [
    "Example2"
   ]
  },
  {
   "cell_type": "code",
   "execution_count": 13,
   "id": "5426b4d4",
   "metadata": {},
   "outputs": [],
   "source": [
    "def error_info():\n",
    "    _,_,exc_tb= sys.exc_info()\n",
    "    file_name= exc_tb.tb_frame.f_code.co_filename\n",
    "    error_message=\"Error:\".format(\n",
    "        file_name\n",
    "    )\n",
    "    print(error_message)\n",
    "\n",
    "def divide(a,b):\n",
    "    try:\n",
    "        c = a / b\n",
    "    except Exception as e:\n",
    "        error_info()\n",
    "    else:\n",
    "        print(c)"
   ]
  },
  {
   "cell_type": "code",
   "execution_count": 14,
   "id": "90336943",
   "metadata": {},
   "outputs": [
    {
     "name": "stdout",
     "output_type": "stream",
     "text": [
      "1.0\n"
     ]
    }
   ],
   "source": [
    "divide(1,1)"
   ]
  },
  {
   "cell_type": "code",
   "execution_count": 15,
   "id": "be322276",
   "metadata": {},
   "outputs": [
    {
     "name": "stdout",
     "output_type": "stream",
     "text": [
      "Error:\n"
     ]
    }
   ],
   "source": [
    "divide(1,0)"
   ]
  },
  {
   "cell_type": "markdown",
   "id": "9e019a28",
   "metadata": {},
   "source": [
    "Version2"
   ]
  },
  {
   "cell_type": "code",
   "execution_count": 16,
   "id": "129939ef",
   "metadata": {},
   "outputs": [],
   "source": [
    "def error_info():\n",
    "    _,_,exc_tb= sys.exc_info()\n",
    "    file_name= exc_tb.tb_frame.f_code.co_filename\n",
    "    error_message=\"Error [{0}]:\".format(\n",
    "        file_name\n",
    "    )\n",
    "    print(error_message)\n",
    "\n",
    "def divide(a,b):\n",
    "    try:\n",
    "        c = a / b\n",
    "    except Exception as e:\n",
    "        error_info()\n",
    "    else:\n",
    "        print(c)"
   ]
  },
  {
   "cell_type": "code",
   "execution_count": 17,
   "id": "98eae547",
   "metadata": {},
   "outputs": [
    {
     "name": "stdout",
     "output_type": "stream",
     "text": [
      "1.0\n"
     ]
    }
   ],
   "source": [
    "divide(1,1)"
   ]
  },
  {
   "cell_type": "code",
   "execution_count": 18,
   "id": "9517dbd0",
   "metadata": {},
   "outputs": [
    {
     "name": "stdout",
     "output_type": "stream",
     "text": [
      "Error [C:\\Users\\Sanjana\\AppData\\Local\\Temp\\ipykernel_5704\\32662451.py]:\n"
     ]
    }
   ],
   "source": [
    "divide(1,0)"
   ]
  },
  {
   "cell_type": "markdown",
   "id": "0511db09",
   "metadata": {},
   "source": [
    "Version3"
   ]
  },
  {
   "cell_type": "code",
   "execution_count": 19,
   "id": "86e4ff29",
   "metadata": {},
   "outputs": [],
   "source": [
    "def error_info():\n",
    "    _,_,exc_tb= sys.exc_info()\n",
    "    file_name= exc_tb.tb_frame.f_code.co_filename\n",
    "    error_message=\"Error in file [{0}]\\nLine number [{1}]\".format(\n",
    "        file_name,exc_tb.tb_lineno\n",
    "    )\n",
    "    print(error_message)\n",
    "\n",
    "def divide(a,b):\n",
    "    try:\n",
    "        c = a / b\n",
    "    except Exception as e:\n",
    "        error_info()\n",
    "    else:\n",
    "        print(c)"
   ]
  },
  {
   "cell_type": "code",
   "execution_count": 20,
   "id": "0239a742",
   "metadata": {},
   "outputs": [
    {
     "name": "stdout",
     "output_type": "stream",
     "text": [
      "Error in file [C:\\Users\\Sanjana\\AppData\\Local\\Temp\\ipykernel_5704\\2139334126.py]\n",
      "Line number [11]\n"
     ]
    }
   ],
   "source": [
    "divide(1,0)"
   ]
  },
  {
   "cell_type": "markdown",
   "id": "37bc0287",
   "metadata": {},
   "source": [
    "Version 4:"
   ]
  },
  {
   "cell_type": "code",
   "execution_count": 35,
   "id": "7a0ef40d",
   "metadata": {},
   "outputs": [],
   "source": [
    "def error_info(error):\n",
    "    _,_,exc_tb= sys.exc_info()\n",
    "    file_name= exc_tb.tb_frame.f_code.co_filename\n",
    "    error_message=\"Error in file [{0}]\\nLine number [{1}]\\nError Messsage : [{2}]\".format(\n",
    "        file_name,exc_tb.tb_lineno,error\n",
    "    )\n",
    "    print(error_message)\n",
    "\n",
    "def divide(a,b):\n",
    "    return a / b\n",
    "\n"
   ]
  },
  {
   "cell_type": "code",
   "execution_count": 36,
   "id": "0a4eccf6",
   "metadata": {},
   "outputs": [
    {
     "name": "stdout",
     "output_type": "stream",
     "text": [
      "Error in file [C:\\Users\\Sanjana\\AppData\\Local\\Temp\\ipykernel_5704\\2944905755.py]\n",
      "Line number [2]\n",
      "Error Messsage : [division by zero]\n"
     ]
    }
   ],
   "source": [
    "try:\n",
    "    result = divide(1,0)\n",
    "except Exception as e:\n",
    "    error_info(e)\n",
    "else:\n",
    "    print(result)"
   ]
  },
  {
   "cell_type": "markdown",
   "id": "bcde9a8d",
   "metadata": {},
   "source": [
    "Above is only function to display the error in a certain format but here the code will further run if the error is not addressed.\n",
    "\n",
    "Hence to address the error as it comes and to avoid further running of the code custom exceptions are raised like that of below\n",
    "\n",
    "Version 5"
   ]
  },
  {
   "cell_type": "code",
   "execution_count": 56,
   "id": "ae799b90",
   "metadata": {},
   "outputs": [],
   "source": [
    "def get_error_details(error):\n",
    "    _,_,exc_tb = sys.exc_info()\n",
    "    file_path = exc_tb.tb_frame.f_code.co_filename\n",
    "    error_message = \"Error in path: [{0}]\\nLine Number: [{1}]\\nError Message: [{2}]\".format(\n",
    "        file_path,exc_tb.tb_lineno,error\n",
    "    )\n",
    "\n",
    "    return error_message\n",
    "\n",
    "class CustomException(Exception):\n",
    "    def __init__(self, error):\n",
    "        error_details = get_error_details(error)\n",
    "        super().__init__(error_details)\n",
    "        self.error_details = error_details\n",
    "\n",
    "def divide(a,b):\n",
    "    return a / b"
   ]
  },
  {
   "cell_type": "code",
   "execution_count": 61,
   "id": "31968882",
   "metadata": {},
   "outputs": [
    {
     "name": "stdout",
     "output_type": "stream",
     "text": [
      "\n",
      "Custom Exception Caught:\n",
      "Error in path: [C:\\Users\\Sanjana\\AppData\\Local\\Temp\\ipykernel_5704\\787528091.py]\n",
      "Line Number: [4]\n",
      "Error Message: [invalid literal for int() with base 10: 'a']\n",
      "\n",
      "Execution complete\n"
     ]
    }
   ],
   "source": [
    "# Main execution block\n",
    "try:\n",
    "    a = 5\n",
    "    b = int(input(\"Enter denominator: \"))  # This can raise ValueError\n",
    "    result = divide(a, b)  # This can raise ZeroDivisionError\n",
    "    print(\"\\nResult:\", result)\n",
    "\n",
    "except Exception as e:\n",
    "    custom_error = CustomException(e)\n",
    "    print(\"\\nCustom Exception Caught:\")\n",
    "    print(custom_error)\n",
    "\n",
    "finally:\n",
    "    print(\"\\nExecution complete\")"
   ]
  },
  {
   "cell_type": "code",
   "execution_count": 62,
   "id": "37c0862b",
   "metadata": {},
   "outputs": [],
   "source": [
    "import logging,os\n",
    "from datetime import datetime"
   ]
  },
  {
   "cell_type": "code",
   "execution_count": 63,
   "id": "bd845dac",
   "metadata": {},
   "outputs": [],
   "source": [
    "LOG_FILE= f\"{datetime.now().strftime('%m_%d_%Y:%H-%M-%S')}.log\""
   ]
  },
  {
   "cell_type": "code",
   "execution_count": 65,
   "id": "8d89eebc",
   "metadata": {},
   "outputs": [
    {
     "name": "stdout",
     "output_type": "stream",
     "text": [
      "c:\\Users\\Sanjana\\Desktop\\Masters\\Projects\\Project1\\logs\\05_20_2025:15-39-06.log\n"
     ]
    }
   ],
   "source": [
    "log_path = os.path.join(os.getcwd(),\"logs\",LOG_FILE)\n",
    "print(log_path)"
   ]
  },
  {
   "cell_type": "code",
   "execution_count": 66,
   "id": "b0a349b4",
   "metadata": {},
   "outputs": [
    {
     "name": "stdout",
     "output_type": "stream",
     "text": [
      "c:\\Users\\Sanjana\\Desktop\\Masters\\Projects\\Project1\\logs\\05_20_2025:15-39-06.log\\05_20_2025:15-39-06.log\n"
     ]
    }
   ],
   "source": [
    "LOG_FILE_PATH= os.path.join(log_path,LOG_FILE)\n",
    "\n",
    "print(LOG_FILE_PATH)"
   ]
  },
  {
   "cell_type": "code",
   "execution_count": null,
   "id": "179b2016",
   "metadata": {},
   "outputs": [],
   "source": [
    "logging.basicConfig(\n",
    "    filename=LOG_PATH,\n",
    "    level=logging.INFO,\n",
    "    format=\"%(asctime)s - %(levelname)s - %(name)s - %(message)s\"\n",
    ")"
   ]
  }
 ],
 "metadata": {
  "kernelspec": {
   "display_name": "Python 3",
   "language": "python",
   "name": "python3"
  },
  "language_info": {
   "codemirror_mode": {
    "name": "ipython",
    "version": 3
   },
   "file_extension": ".py",
   "mimetype": "text/x-python",
   "name": "python",
   "nbconvert_exporter": "python",
   "pygments_lexer": "ipython3",
   "version": "3.8.0"
  }
 },
 "nbformat": 4,
 "nbformat_minor": 5
}
